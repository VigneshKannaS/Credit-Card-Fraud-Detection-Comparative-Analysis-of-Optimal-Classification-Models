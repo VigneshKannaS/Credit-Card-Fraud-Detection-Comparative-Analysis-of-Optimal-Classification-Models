{
 "cells": [
  {
   "cell_type": "markdown",
   "id": "7b23bf69-91bf-4ce3-bf85-6a6357d464e1",
   "metadata": {},
   "source": [
    "## Importing dependencies"
   ]
  },
  {
   "cell_type": "code",
   "execution_count": 1,
   "id": "4114665e-42a8-4d6c-adea-ed5b22804726",
   "metadata": {},
   "outputs": [],
   "source": [
    "import pandas as pd\n",
    "import numpy as np"
   ]
  },
  {
   "cell_type": "markdown",
   "id": "c61b5a56-ee9f-4d8a-a0ef-9f27125c3a28",
   "metadata": {},
   "source": [
    "## Importing the dataset into the environment"
   ]
  },
  {
   "cell_type": "code",
   "execution_count": 2,
   "id": "fc7aa6f8-82d5-490a-9671-a384fc658a86",
   "metadata": {},
   "outputs": [],
   "source": [
    "creditCardData = pd.read_csv('creditcard.csv')"
   ]
  },
  {
   "cell_type": "markdown",
   "id": "8c286d99-80f6-4ae5-a71f-4fb5ac960d05",
   "metadata": {},
   "source": [
    "## Inspecting the dataset"
   ]
  },
  {
   "cell_type": "code",
   "execution_count": 3,
   "id": "d9e9fb26-28a4-4705-9954-df18032e64bd",
   "metadata": {},
   "outputs": [
    {
     "data": {
      "text/plain": [
       "(284807, 31)"
      ]
     },
     "execution_count": 3,
     "metadata": {},
     "output_type": "execute_result"
    }
   ],
   "source": [
    "creditCardData.shape  # The dataset contains 2,84,807 records of credit card transactions and 31 features"
   ]
  },
  {
   "cell_type": "code",
   "execution_count": 4,
   "id": "f43bb9d6-b0ef-4125-ad80-78d43a5e9b97",
   "metadata": {},
   "outputs": [
    {
     "data": {
      "text/html": [
       "<div>\n",
       "<style scoped>\n",
       "    .dataframe tbody tr th:only-of-type {\n",
       "        vertical-align: middle;\n",
       "    }\n",
       "\n",
       "    .dataframe tbody tr th {\n",
       "        vertical-align: top;\n",
       "    }\n",
       "\n",
       "    .dataframe thead th {\n",
       "        text-align: right;\n",
       "    }\n",
       "</style>\n",
       "<table border=\"1\" class=\"dataframe\">\n",
       "  <thead>\n",
       "    <tr style=\"text-align: right;\">\n",
       "      <th></th>\n",
       "      <th>Time</th>\n",
       "      <th>V1</th>\n",
       "      <th>V2</th>\n",
       "      <th>V3</th>\n",
       "      <th>V4</th>\n",
       "      <th>V5</th>\n",
       "      <th>V6</th>\n",
       "      <th>V7</th>\n",
       "      <th>V8</th>\n",
       "      <th>V9</th>\n",
       "      <th>...</th>\n",
       "      <th>V21</th>\n",
       "      <th>V22</th>\n",
       "      <th>V23</th>\n",
       "      <th>V24</th>\n",
       "      <th>V25</th>\n",
       "      <th>V26</th>\n",
       "      <th>V27</th>\n",
       "      <th>V28</th>\n",
       "      <th>Amount</th>\n",
       "      <th>Class</th>\n",
       "    </tr>\n",
       "  </thead>\n",
       "  <tbody>\n",
       "    <tr>\n",
       "      <th>0</th>\n",
       "      <td>0.0</td>\n",
       "      <td>-1.359807</td>\n",
       "      <td>-0.072781</td>\n",
       "      <td>2.536347</td>\n",
       "      <td>1.378155</td>\n",
       "      <td>-0.338321</td>\n",
       "      <td>0.462388</td>\n",
       "      <td>0.239599</td>\n",
       "      <td>0.098698</td>\n",
       "      <td>0.363787</td>\n",
       "      <td>...</td>\n",
       "      <td>-0.018307</td>\n",
       "      <td>0.277838</td>\n",
       "      <td>-0.110474</td>\n",
       "      <td>0.066928</td>\n",
       "      <td>0.128539</td>\n",
       "      <td>-0.189115</td>\n",
       "      <td>0.133558</td>\n",
       "      <td>-0.021053</td>\n",
       "      <td>149.62</td>\n",
       "      <td>0</td>\n",
       "    </tr>\n",
       "    <tr>\n",
       "      <th>1</th>\n",
       "      <td>0.0</td>\n",
       "      <td>1.191857</td>\n",
       "      <td>0.266151</td>\n",
       "      <td>0.166480</td>\n",
       "      <td>0.448154</td>\n",
       "      <td>0.060018</td>\n",
       "      <td>-0.082361</td>\n",
       "      <td>-0.078803</td>\n",
       "      <td>0.085102</td>\n",
       "      <td>-0.255425</td>\n",
       "      <td>...</td>\n",
       "      <td>-0.225775</td>\n",
       "      <td>-0.638672</td>\n",
       "      <td>0.101288</td>\n",
       "      <td>-0.339846</td>\n",
       "      <td>0.167170</td>\n",
       "      <td>0.125895</td>\n",
       "      <td>-0.008983</td>\n",
       "      <td>0.014724</td>\n",
       "      <td>2.69</td>\n",
       "      <td>0</td>\n",
       "    </tr>\n",
       "    <tr>\n",
       "      <th>2</th>\n",
       "      <td>1.0</td>\n",
       "      <td>-1.358354</td>\n",
       "      <td>-1.340163</td>\n",
       "      <td>1.773209</td>\n",
       "      <td>0.379780</td>\n",
       "      <td>-0.503198</td>\n",
       "      <td>1.800499</td>\n",
       "      <td>0.791461</td>\n",
       "      <td>0.247676</td>\n",
       "      <td>-1.514654</td>\n",
       "      <td>...</td>\n",
       "      <td>0.247998</td>\n",
       "      <td>0.771679</td>\n",
       "      <td>0.909412</td>\n",
       "      <td>-0.689281</td>\n",
       "      <td>-0.327642</td>\n",
       "      <td>-0.139097</td>\n",
       "      <td>-0.055353</td>\n",
       "      <td>-0.059752</td>\n",
       "      <td>378.66</td>\n",
       "      <td>0</td>\n",
       "    </tr>\n",
       "    <tr>\n",
       "      <th>3</th>\n",
       "      <td>1.0</td>\n",
       "      <td>-0.966272</td>\n",
       "      <td>-0.185226</td>\n",
       "      <td>1.792993</td>\n",
       "      <td>-0.863291</td>\n",
       "      <td>-0.010309</td>\n",
       "      <td>1.247203</td>\n",
       "      <td>0.237609</td>\n",
       "      <td>0.377436</td>\n",
       "      <td>-1.387024</td>\n",
       "      <td>...</td>\n",
       "      <td>-0.108300</td>\n",
       "      <td>0.005274</td>\n",
       "      <td>-0.190321</td>\n",
       "      <td>-1.175575</td>\n",
       "      <td>0.647376</td>\n",
       "      <td>-0.221929</td>\n",
       "      <td>0.062723</td>\n",
       "      <td>0.061458</td>\n",
       "      <td>123.50</td>\n",
       "      <td>0</td>\n",
       "    </tr>\n",
       "    <tr>\n",
       "      <th>4</th>\n",
       "      <td>2.0</td>\n",
       "      <td>-1.158233</td>\n",
       "      <td>0.877737</td>\n",
       "      <td>1.548718</td>\n",
       "      <td>0.403034</td>\n",
       "      <td>-0.407193</td>\n",
       "      <td>0.095921</td>\n",
       "      <td>0.592941</td>\n",
       "      <td>-0.270533</td>\n",
       "      <td>0.817739</td>\n",
       "      <td>...</td>\n",
       "      <td>-0.009431</td>\n",
       "      <td>0.798278</td>\n",
       "      <td>-0.137458</td>\n",
       "      <td>0.141267</td>\n",
       "      <td>-0.206010</td>\n",
       "      <td>0.502292</td>\n",
       "      <td>0.219422</td>\n",
       "      <td>0.215153</td>\n",
       "      <td>69.99</td>\n",
       "      <td>0</td>\n",
       "    </tr>\n",
       "  </tbody>\n",
       "</table>\n",
       "<p>5 rows × 31 columns</p>\n",
       "</div>"
      ],
      "text/plain": [
       "   Time        V1        V2        V3        V4        V5        V6        V7  \\\n",
       "0   0.0 -1.359807 -0.072781  2.536347  1.378155 -0.338321  0.462388  0.239599   \n",
       "1   0.0  1.191857  0.266151  0.166480  0.448154  0.060018 -0.082361 -0.078803   \n",
       "2   1.0 -1.358354 -1.340163  1.773209  0.379780 -0.503198  1.800499  0.791461   \n",
       "3   1.0 -0.966272 -0.185226  1.792993 -0.863291 -0.010309  1.247203  0.237609   \n",
       "4   2.0 -1.158233  0.877737  1.548718  0.403034 -0.407193  0.095921  0.592941   \n",
       "\n",
       "         V8        V9  ...       V21       V22       V23       V24       V25  \\\n",
       "0  0.098698  0.363787  ... -0.018307  0.277838 -0.110474  0.066928  0.128539   \n",
       "1  0.085102 -0.255425  ... -0.225775 -0.638672  0.101288 -0.339846  0.167170   \n",
       "2  0.247676 -1.514654  ...  0.247998  0.771679  0.909412 -0.689281 -0.327642   \n",
       "3  0.377436 -1.387024  ... -0.108300  0.005274 -0.190321 -1.175575  0.647376   \n",
       "4 -0.270533  0.817739  ... -0.009431  0.798278 -0.137458  0.141267 -0.206010   \n",
       "\n",
       "        V26       V27       V28  Amount  Class  \n",
       "0 -0.189115  0.133558 -0.021053  149.62      0  \n",
       "1  0.125895 -0.008983  0.014724    2.69      0  \n",
       "2 -0.139097 -0.055353 -0.059752  378.66      0  \n",
       "3 -0.221929  0.062723  0.061458  123.50      0  \n",
       "4  0.502292  0.219422  0.215153   69.99      0  \n",
       "\n",
       "[5 rows x 31 columns]"
      ]
     },
     "execution_count": 4,
     "metadata": {},
     "output_type": "execute_result"
    }
   ],
   "source": [
    "creditCardData.head()"
   ]
  },
  {
   "cell_type": "code",
   "execution_count": 5,
   "id": "909b476d-8dea-492d-967d-01c668d2adcd",
   "metadata": {},
   "outputs": [
    {
     "name": "stdout",
     "output_type": "stream",
     "text": [
      "<class 'pandas.core.frame.DataFrame'>\n",
      "RangeIndex: 284807 entries, 0 to 284806\n",
      "Data columns (total 31 columns):\n",
      " #   Column  Non-Null Count   Dtype  \n",
      "---  ------  --------------   -----  \n",
      " 0   Time    284807 non-null  float64\n",
      " 1   V1      284807 non-null  float64\n",
      " 2   V2      284807 non-null  float64\n",
      " 3   V3      284807 non-null  float64\n",
      " 4   V4      284807 non-null  float64\n",
      " 5   V5      284807 non-null  float64\n",
      " 6   V6      284807 non-null  float64\n",
      " 7   V7      284807 non-null  float64\n",
      " 8   V8      284807 non-null  float64\n",
      " 9   V9      284807 non-null  float64\n",
      " 10  V10     284807 non-null  float64\n",
      " 11  V11     284807 non-null  float64\n",
      " 12  V12     284807 non-null  float64\n",
      " 13  V13     284807 non-null  float64\n",
      " 14  V14     284807 non-null  float64\n",
      " 15  V15     284807 non-null  float64\n",
      " 16  V16     284807 non-null  float64\n",
      " 17  V17     284807 non-null  float64\n",
      " 18  V18     284807 non-null  float64\n",
      " 19  V19     284807 non-null  float64\n",
      " 20  V20     284807 non-null  float64\n",
      " 21  V21     284807 non-null  float64\n",
      " 22  V22     284807 non-null  float64\n",
      " 23  V23     284807 non-null  float64\n",
      " 24  V24     284807 non-null  float64\n",
      " 25  V25     284807 non-null  float64\n",
      " 26  V26     284807 non-null  float64\n",
      " 27  V27     284807 non-null  float64\n",
      " 28  V28     284807 non-null  float64\n",
      " 29  Amount  284807 non-null  float64\n",
      " 30  Class   284807 non-null  int64  \n",
      "dtypes: float64(30), int64(1)\n",
      "memory usage: 67.4 MB\n"
     ]
    }
   ],
   "source": [
    "creditCardData.info()"
   ]
  },
  {
   "cell_type": "code",
   "execution_count": 6,
   "id": "f9f3f10f-840c-4a07-b6aa-354470741eaa",
   "metadata": {},
   "outputs": [
    {
     "data": {
      "text/html": [
       "<div>\n",
       "<style scoped>\n",
       "    .dataframe tbody tr th:only-of-type {\n",
       "        vertical-align: middle;\n",
       "    }\n",
       "\n",
       "    .dataframe tbody tr th {\n",
       "        vertical-align: top;\n",
       "    }\n",
       "\n",
       "    .dataframe thead th {\n",
       "        text-align: right;\n",
       "    }\n",
       "</style>\n",
       "<table border=\"1\" class=\"dataframe\">\n",
       "  <thead>\n",
       "    <tr style=\"text-align: right;\">\n",
       "      <th></th>\n",
       "      <th>Time</th>\n",
       "      <th>V1</th>\n",
       "      <th>V2</th>\n",
       "      <th>V3</th>\n",
       "      <th>V4</th>\n",
       "      <th>V5</th>\n",
       "      <th>V6</th>\n",
       "      <th>V7</th>\n",
       "      <th>V8</th>\n",
       "      <th>V9</th>\n",
       "      <th>...</th>\n",
       "      <th>V21</th>\n",
       "      <th>V22</th>\n",
       "      <th>V23</th>\n",
       "      <th>V24</th>\n",
       "      <th>V25</th>\n",
       "      <th>V26</th>\n",
       "      <th>V27</th>\n",
       "      <th>V28</th>\n",
       "      <th>Amount</th>\n",
       "      <th>Class</th>\n",
       "    </tr>\n",
       "  </thead>\n",
       "  <tbody>\n",
       "    <tr>\n",
       "      <th>count</th>\n",
       "      <td>284807.000000</td>\n",
       "      <td>2.848070e+05</td>\n",
       "      <td>2.848070e+05</td>\n",
       "      <td>2.848070e+05</td>\n",
       "      <td>2.848070e+05</td>\n",
       "      <td>2.848070e+05</td>\n",
       "      <td>2.848070e+05</td>\n",
       "      <td>2.848070e+05</td>\n",
       "      <td>2.848070e+05</td>\n",
       "      <td>2.848070e+05</td>\n",
       "      <td>...</td>\n",
       "      <td>2.848070e+05</td>\n",
       "      <td>2.848070e+05</td>\n",
       "      <td>2.848070e+05</td>\n",
       "      <td>2.848070e+05</td>\n",
       "      <td>2.848070e+05</td>\n",
       "      <td>2.848070e+05</td>\n",
       "      <td>2.848070e+05</td>\n",
       "      <td>2.848070e+05</td>\n",
       "      <td>284807.000000</td>\n",
       "      <td>284807.000000</td>\n",
       "    </tr>\n",
       "    <tr>\n",
       "      <th>mean</th>\n",
       "      <td>94813.859575</td>\n",
       "      <td>1.168375e-15</td>\n",
       "      <td>3.416908e-16</td>\n",
       "      <td>-1.379537e-15</td>\n",
       "      <td>2.074095e-15</td>\n",
       "      <td>9.604066e-16</td>\n",
       "      <td>1.487313e-15</td>\n",
       "      <td>-5.556467e-16</td>\n",
       "      <td>1.213481e-16</td>\n",
       "      <td>-2.406331e-15</td>\n",
       "      <td>...</td>\n",
       "      <td>1.654067e-16</td>\n",
       "      <td>-3.568593e-16</td>\n",
       "      <td>2.578648e-16</td>\n",
       "      <td>4.473266e-15</td>\n",
       "      <td>5.340915e-16</td>\n",
       "      <td>1.683437e-15</td>\n",
       "      <td>-3.660091e-16</td>\n",
       "      <td>-1.227390e-16</td>\n",
       "      <td>88.349619</td>\n",
       "      <td>0.001727</td>\n",
       "    </tr>\n",
       "    <tr>\n",
       "      <th>std</th>\n",
       "      <td>47488.145955</td>\n",
       "      <td>1.958696e+00</td>\n",
       "      <td>1.651309e+00</td>\n",
       "      <td>1.516255e+00</td>\n",
       "      <td>1.415869e+00</td>\n",
       "      <td>1.380247e+00</td>\n",
       "      <td>1.332271e+00</td>\n",
       "      <td>1.237094e+00</td>\n",
       "      <td>1.194353e+00</td>\n",
       "      <td>1.098632e+00</td>\n",
       "      <td>...</td>\n",
       "      <td>7.345240e-01</td>\n",
       "      <td>7.257016e-01</td>\n",
       "      <td>6.244603e-01</td>\n",
       "      <td>6.056471e-01</td>\n",
       "      <td>5.212781e-01</td>\n",
       "      <td>4.822270e-01</td>\n",
       "      <td>4.036325e-01</td>\n",
       "      <td>3.300833e-01</td>\n",
       "      <td>250.120109</td>\n",
       "      <td>0.041527</td>\n",
       "    </tr>\n",
       "    <tr>\n",
       "      <th>min</th>\n",
       "      <td>0.000000</td>\n",
       "      <td>-5.640751e+01</td>\n",
       "      <td>-7.271573e+01</td>\n",
       "      <td>-4.832559e+01</td>\n",
       "      <td>-5.683171e+00</td>\n",
       "      <td>-1.137433e+02</td>\n",
       "      <td>-2.616051e+01</td>\n",
       "      <td>-4.355724e+01</td>\n",
       "      <td>-7.321672e+01</td>\n",
       "      <td>-1.343407e+01</td>\n",
       "      <td>...</td>\n",
       "      <td>-3.483038e+01</td>\n",
       "      <td>-1.093314e+01</td>\n",
       "      <td>-4.480774e+01</td>\n",
       "      <td>-2.836627e+00</td>\n",
       "      <td>-1.029540e+01</td>\n",
       "      <td>-2.604551e+00</td>\n",
       "      <td>-2.256568e+01</td>\n",
       "      <td>-1.543008e+01</td>\n",
       "      <td>0.000000</td>\n",
       "      <td>0.000000</td>\n",
       "    </tr>\n",
       "    <tr>\n",
       "      <th>25%</th>\n",
       "      <td>54201.500000</td>\n",
       "      <td>-9.203734e-01</td>\n",
       "      <td>-5.985499e-01</td>\n",
       "      <td>-8.903648e-01</td>\n",
       "      <td>-8.486401e-01</td>\n",
       "      <td>-6.915971e-01</td>\n",
       "      <td>-7.682956e-01</td>\n",
       "      <td>-5.540759e-01</td>\n",
       "      <td>-2.086297e-01</td>\n",
       "      <td>-6.430976e-01</td>\n",
       "      <td>...</td>\n",
       "      <td>-2.283949e-01</td>\n",
       "      <td>-5.423504e-01</td>\n",
       "      <td>-1.618463e-01</td>\n",
       "      <td>-3.545861e-01</td>\n",
       "      <td>-3.171451e-01</td>\n",
       "      <td>-3.269839e-01</td>\n",
       "      <td>-7.083953e-02</td>\n",
       "      <td>-5.295979e-02</td>\n",
       "      <td>5.600000</td>\n",
       "      <td>0.000000</td>\n",
       "    </tr>\n",
       "    <tr>\n",
       "      <th>50%</th>\n",
       "      <td>84692.000000</td>\n",
       "      <td>1.810880e-02</td>\n",
       "      <td>6.548556e-02</td>\n",
       "      <td>1.798463e-01</td>\n",
       "      <td>-1.984653e-02</td>\n",
       "      <td>-5.433583e-02</td>\n",
       "      <td>-2.741871e-01</td>\n",
       "      <td>4.010308e-02</td>\n",
       "      <td>2.235804e-02</td>\n",
       "      <td>-5.142873e-02</td>\n",
       "      <td>...</td>\n",
       "      <td>-2.945017e-02</td>\n",
       "      <td>6.781943e-03</td>\n",
       "      <td>-1.119293e-02</td>\n",
       "      <td>4.097606e-02</td>\n",
       "      <td>1.659350e-02</td>\n",
       "      <td>-5.213911e-02</td>\n",
       "      <td>1.342146e-03</td>\n",
       "      <td>1.124383e-02</td>\n",
       "      <td>22.000000</td>\n",
       "      <td>0.000000</td>\n",
       "    </tr>\n",
       "    <tr>\n",
       "      <th>75%</th>\n",
       "      <td>139320.500000</td>\n",
       "      <td>1.315642e+00</td>\n",
       "      <td>8.037239e-01</td>\n",
       "      <td>1.027196e+00</td>\n",
       "      <td>7.433413e-01</td>\n",
       "      <td>6.119264e-01</td>\n",
       "      <td>3.985649e-01</td>\n",
       "      <td>5.704361e-01</td>\n",
       "      <td>3.273459e-01</td>\n",
       "      <td>5.971390e-01</td>\n",
       "      <td>...</td>\n",
       "      <td>1.863772e-01</td>\n",
       "      <td>5.285536e-01</td>\n",
       "      <td>1.476421e-01</td>\n",
       "      <td>4.395266e-01</td>\n",
       "      <td>3.507156e-01</td>\n",
       "      <td>2.409522e-01</td>\n",
       "      <td>9.104512e-02</td>\n",
       "      <td>7.827995e-02</td>\n",
       "      <td>77.165000</td>\n",
       "      <td>0.000000</td>\n",
       "    </tr>\n",
       "    <tr>\n",
       "      <th>max</th>\n",
       "      <td>172792.000000</td>\n",
       "      <td>2.454930e+00</td>\n",
       "      <td>2.205773e+01</td>\n",
       "      <td>9.382558e+00</td>\n",
       "      <td>1.687534e+01</td>\n",
       "      <td>3.480167e+01</td>\n",
       "      <td>7.330163e+01</td>\n",
       "      <td>1.205895e+02</td>\n",
       "      <td>2.000721e+01</td>\n",
       "      <td>1.559499e+01</td>\n",
       "      <td>...</td>\n",
       "      <td>2.720284e+01</td>\n",
       "      <td>1.050309e+01</td>\n",
       "      <td>2.252841e+01</td>\n",
       "      <td>4.584549e+00</td>\n",
       "      <td>7.519589e+00</td>\n",
       "      <td>3.517346e+00</td>\n",
       "      <td>3.161220e+01</td>\n",
       "      <td>3.384781e+01</td>\n",
       "      <td>25691.160000</td>\n",
       "      <td>1.000000</td>\n",
       "    </tr>\n",
       "  </tbody>\n",
       "</table>\n",
       "<p>8 rows × 31 columns</p>\n",
       "</div>"
      ],
      "text/plain": [
       "                Time            V1            V2            V3            V4  \\\n",
       "count  284807.000000  2.848070e+05  2.848070e+05  2.848070e+05  2.848070e+05   \n",
       "mean    94813.859575  1.168375e-15  3.416908e-16 -1.379537e-15  2.074095e-15   \n",
       "std     47488.145955  1.958696e+00  1.651309e+00  1.516255e+00  1.415869e+00   \n",
       "min         0.000000 -5.640751e+01 -7.271573e+01 -4.832559e+01 -5.683171e+00   \n",
       "25%     54201.500000 -9.203734e-01 -5.985499e-01 -8.903648e-01 -8.486401e-01   \n",
       "50%     84692.000000  1.810880e-02  6.548556e-02  1.798463e-01 -1.984653e-02   \n",
       "75%    139320.500000  1.315642e+00  8.037239e-01  1.027196e+00  7.433413e-01   \n",
       "max    172792.000000  2.454930e+00  2.205773e+01  9.382558e+00  1.687534e+01   \n",
       "\n",
       "                 V5            V6            V7            V8            V9  \\\n",
       "count  2.848070e+05  2.848070e+05  2.848070e+05  2.848070e+05  2.848070e+05   \n",
       "mean   9.604066e-16  1.487313e-15 -5.556467e-16  1.213481e-16 -2.406331e-15   \n",
       "std    1.380247e+00  1.332271e+00  1.237094e+00  1.194353e+00  1.098632e+00   \n",
       "min   -1.137433e+02 -2.616051e+01 -4.355724e+01 -7.321672e+01 -1.343407e+01   \n",
       "25%   -6.915971e-01 -7.682956e-01 -5.540759e-01 -2.086297e-01 -6.430976e-01   \n",
       "50%   -5.433583e-02 -2.741871e-01  4.010308e-02  2.235804e-02 -5.142873e-02   \n",
       "75%    6.119264e-01  3.985649e-01  5.704361e-01  3.273459e-01  5.971390e-01   \n",
       "max    3.480167e+01  7.330163e+01  1.205895e+02  2.000721e+01  1.559499e+01   \n",
       "\n",
       "       ...           V21           V22           V23           V24  \\\n",
       "count  ...  2.848070e+05  2.848070e+05  2.848070e+05  2.848070e+05   \n",
       "mean   ...  1.654067e-16 -3.568593e-16  2.578648e-16  4.473266e-15   \n",
       "std    ...  7.345240e-01  7.257016e-01  6.244603e-01  6.056471e-01   \n",
       "min    ... -3.483038e+01 -1.093314e+01 -4.480774e+01 -2.836627e+00   \n",
       "25%    ... -2.283949e-01 -5.423504e-01 -1.618463e-01 -3.545861e-01   \n",
       "50%    ... -2.945017e-02  6.781943e-03 -1.119293e-02  4.097606e-02   \n",
       "75%    ...  1.863772e-01  5.285536e-01  1.476421e-01  4.395266e-01   \n",
       "max    ...  2.720284e+01  1.050309e+01  2.252841e+01  4.584549e+00   \n",
       "\n",
       "                V25           V26           V27           V28         Amount  \\\n",
       "count  2.848070e+05  2.848070e+05  2.848070e+05  2.848070e+05  284807.000000   \n",
       "mean   5.340915e-16  1.683437e-15 -3.660091e-16 -1.227390e-16      88.349619   \n",
       "std    5.212781e-01  4.822270e-01  4.036325e-01  3.300833e-01     250.120109   \n",
       "min   -1.029540e+01 -2.604551e+00 -2.256568e+01 -1.543008e+01       0.000000   \n",
       "25%   -3.171451e-01 -3.269839e-01 -7.083953e-02 -5.295979e-02       5.600000   \n",
       "50%    1.659350e-02 -5.213911e-02  1.342146e-03  1.124383e-02      22.000000   \n",
       "75%    3.507156e-01  2.409522e-01  9.104512e-02  7.827995e-02      77.165000   \n",
       "max    7.519589e+00  3.517346e+00  3.161220e+01  3.384781e+01   25691.160000   \n",
       "\n",
       "               Class  \n",
       "count  284807.000000  \n",
       "mean        0.001727  \n",
       "std         0.041527  \n",
       "min         0.000000  \n",
       "25%         0.000000  \n",
       "50%         0.000000  \n",
       "75%         0.000000  \n",
       "max         1.000000  \n",
       "\n",
       "[8 rows x 31 columns]"
      ]
     },
     "execution_count": 6,
     "metadata": {},
     "output_type": "execute_result"
    }
   ],
   "source": [
    "creditCardData. describe()"
   ]
  },
  {
   "cell_type": "code",
   "execution_count": 7,
   "id": "d248afcb-2f1c-4af5-b133-1957a9b4a195",
   "metadata": {},
   "outputs": [
    {
     "data": {
      "text/plain": [
       "Time      0\n",
       "V1        0\n",
       "V2        0\n",
       "V3        0\n",
       "V4        0\n",
       "V5        0\n",
       "V6        0\n",
       "V7        0\n",
       "V8        0\n",
       "V9        0\n",
       "V10       0\n",
       "V11       0\n",
       "V12       0\n",
       "V13       0\n",
       "V14       0\n",
       "V15       0\n",
       "V16       0\n",
       "V17       0\n",
       "V18       0\n",
       "V19       0\n",
       "V20       0\n",
       "V21       0\n",
       "V22       0\n",
       "V23       0\n",
       "V24       0\n",
       "V25       0\n",
       "V26       0\n",
       "V27       0\n",
       "V28       0\n",
       "Amount    0\n",
       "Class     0\n",
       "dtype: int64"
      ]
     },
     "execution_count": 7,
     "metadata": {},
     "output_type": "execute_result"
    }
   ],
   "source": [
    "creditCardData.isnull().sum()"
   ]
  },
  {
   "cell_type": "markdown",
   "id": "0a411b53-ee2a-4653-81fe-6393c5b9e551",
   "metadata": {},
   "source": [
    "### Checking and Visualizing Outliers"
   ]
  },
  {
   "cell_type": "code",
   "execution_count": 8,
   "id": "b2d73bf4-9de1-4d3a-bcbc-6e259cc09739",
   "metadata": {},
   "outputs": [
    {
     "data": {
      "image/png": "[encoded data removed]",
      "text/plain": [
       "<Figure size 1500x1500 with 30 Axes>"
      ]
     },
     "metadata": {},
     "output_type": "display_data"
    }
   ],
   "source": [
    "import matplotlib.pyplot as plot\n",
    "import seaborn as sea\n",
    "\n",
    "columnNames = creditCardData.drop(columns=\"Class\").columns #getting rid of target variable\n",
    "fig, axes = plot.subplots(6,5, figsize=(15,15))\n",
    "axes = axes.flatten()\n",
    "i=0\n",
    "for col in columnNames:\n",
    "    sea.boxplot(creditCardData[col], ax=axes[i]) #Boxplot visualization represents outliers for each independent feature\n",
    "    axes[i].set_title(col)\n",
    "    i=i+1\n",
    "for j in range(i+1, 9):\n",
    "    fig.delaxes(axes[j])\n",
    "\n",
    "plot.tight_layout()\n",
    "plot.show()"
   ]
  },
  {
   "cell_type": "code",
   "execution_count": 9,
   "id": "3033fd1b-7314-426e-b728-49abd6f2a6b4",
   "metadata": {},
   "outputs": [
    {
     "data": {
      "text/plain": [
       "{'Time': 0,\n",
       " 'V1': 7062,\n",
       " 'V2': 13526,\n",
       " 'V3': 3363,\n",
       " 'V4': 11148,\n",
       " 'V5': 12295,\n",
       " 'V6': 22965,\n",
       " 'V7': 8948,\n",
       " 'V8': 24134,\n",
       " 'V9': 8283,\n",
       " 'V10': 9496,\n",
       " 'V11': 780,\n",
       " 'V12': 15348,\n",
       " 'V13': 3368,\n",
       " 'V14': 14149,\n",
       " 'V15': 2894,\n",
       " 'V16': 8184,\n",
       " 'V17': 7420,\n",
       " 'V18': 7533,\n",
       " 'V19': 10205,\n",
       " 'V20': 27770,\n",
       " 'V21': 14497,\n",
       " 'V22': 1317,\n",
       " 'V23': 18541,\n",
       " 'V24': 4774,\n",
       " 'V25': 5367,\n",
       " 'V26': 5596,\n",
       " 'V27': 39163,\n",
       " 'V28': 30342,\n",
       " 'Amount': 31904}"
      ]
     },
     "execution_count": 9,
     "metadata": {},
     "output_type": "execute_result"
    }
   ],
   "source": [
    "outlierCount = dict()\n",
    "for col in columnNames:\n",
    "    q1 = creditCardData[col].quantile(0.25)\n",
    "    q3 = creditCardData[col].quantile(0.75)\n",
    "    iqr = q3-q1\n",
    "    lowerBound = q1-(1.5*iqr)\n",
    "    upperBound = q3+(1.5*iqr)\n",
    "    outlierDetection=creditCardData[(creditCardData[col] < lowerBound) | (creditCardData[col] > upperBound)] #Checking whether a data point is an outlier or not\n",
    "    outlierCount[col] = len(outlierDetection) #Counting the outliers for each feature\n",
    "outlierCount"
   ]
  },
  {
   "cell_type": "code",
   "execution_count": 10,
   "id": "1f59c393-70a9-42d0-8819-81019e02a864",
   "metadata": {},
   "outputs": [
    {
     "name": "stdout",
     "output_type": "stream",
     "text": [
      "Total Number of Records before Outlier handling : 284807\n",
      "Total Outliers from the Dataset : 174685\n",
      "Total Number of Records After Outlier handling : 110122\n"
     ]
    }
   ],
   "source": [
    "#removing outliers and copying those records to a new dataframe\n",
    "creditCardData2 = creditCardData.copy()\n",
    "for col in creditCardData2:\n",
    "    q1 = creditCardData2[col].quantile(0.25)\n",
    "    q3 = creditCardData2[col].quantile(0.75)\n",
    "    iqr = q3-q1\n",
    "    lowerBound = q1-(1.5*iqr)\n",
    "    upperBound = q3+(1.5*iqr)\n",
    "    creditCardData2 = creditCardData2[~((creditCardData2[col]<lowerBound) | (creditCardData2[col]>upperBound))]\n",
    "    if col==\"Amount\":\n",
    "        break\n",
    "print(\"Total Number of Records before Outlier handling : {}\".format(len(creditCardData)))\n",
    "print(\"Total Outliers from the Dataset : {}\".format(len(creditCardData)-len(creditCardData2))) #Counting the outliers from the dataset\n",
    "print(\"Total Number of Records After Outlier handling : {}\".format(len(creditCardData2)))"
   ]
  },
  {
   "cell_type": "code",
   "execution_count": 11,
   "id": "9edeedb4-5719-45f8-9194-7a403e267492",
   "metadata": {},
   "outputs": [
    {
     "data": {
      "text/plain": [
       "(110109, 31)"
      ]
     },
     "execution_count": 11,
     "metadata": {},
     "output_type": "execute_result"
    }
   ],
   "source": [
    "creditCardData2[creditCardData2['Class']==0].shape"
   ]
  },
  {
   "cell_type": "code",
   "execution_count": 12,
   "id": "0593f770-2100-43fe-8cf2-bbdcf6915898",
   "metadata": {},
   "outputs": [
    {
     "data": {
      "text/plain": [
       "(13, 31)"
      ]
     },
     "execution_count": 12,
     "metadata": {},
     "output_type": "execute_result"
    }
   ],
   "source": [
    "creditCardData2[creditCardData2['Class']==1].shape"
   ]
  },
  {
   "cell_type": "markdown",
   "id": "f6bd5a7c-ed64-4aad-b6fa-c4ea777fb928",
   "metadata": {},
   "source": [
    "#### Inference\n",
    " - <i> Logistic Regression models are not much impacted due to the presence of outliers because the sigmoid function tapers the outliers. </i>\n",
    " - <i> In this dataset, the maximum number of records was considered outliers. </i>"
   ]
  },
  {
   "cell_type": "markdown",
   "id": "2c7ad8a1-84a4-4eef-9554-52b5aa3f1432",
   "metadata": {},
   "source": [
    "## Training Logistic Regression Model without Outliers"
   ]
  },
  {
   "cell_type": "code",
   "execution_count": 13,
   "id": "21b5d541-d107-413c-87df-9a5d92815548",
   "metadata": {},
   "outputs": [],
   "source": [
    "from imblearn.over_sampling import SMOTE\n",
    "from sklearn.model_selection import train_test_split\n",
    "\n",
    "X = creditCardData2.drop(columns=\"Class\")\n",
    "Y = creditCardData2['Class']\n",
    "\n",
    "X_train, X_test, Y_train, Y_test = train_test_split(X,Y,test_size=0.2,random_state=18)"
   ]
  },
  {
   "cell_type": "markdown",
   "id": "b02fca15-778b-4a40-b410-ff9176dd0038",
   "metadata": {},
   "source": [
    "#### Performing SMOTE\n",
    "- SMOTE  - Synthetic Minority Over-Sampling Technique\n",
    "- It generates synthetic examples for the minority class by interpolating between existing minority class examples."
   ]
  },
  {
   "cell_type": "code",
   "execution_count": 15,
   "id": "5583755a-0ab7-44ab-8640-3a8aa4ee7e26",
   "metadata": {},
   "outputs": [
    {
     "data": {
      "text/plain": [
       "Class\n",
       "0    88087\n",
       "1    88087\n",
       "Name: count, dtype: int64"
      ]
     },
     "execution_count": 15,
     "metadata": {},
     "output_type": "execute_result"
    }
   ],
   "source": [
    "syntheticMinorOversample = SMOTE()\n",
    "X_smote, Y_smote = syntheticMinorOversample.fit_resample(X_train,Y_train)\n",
    "Y_smote.value_counts()"
   ]
  },
  {
   "cell_type": "code",
   "execution_count": 16,
   "id": "7d5db32b-ea08-426e-a06d-6aacf21b871b",
   "metadata": {},
   "outputs": [
    {
     "name": "stdout",
     "output_type": "stream",
     "text": [
      "Confusion Matrix\n",
      "[[18522  3500]\n",
      " [    0     3]]\n",
      "__________________________________________________________\n",
      "Classification Report\n",
      "              precision    recall  f1-score   support\n",
      "\n",
      "           0       1.00      0.84      0.91     22022\n",
      "           1       0.00      1.00      0.00         3\n",
      "\n",
      "    accuracy                           0.84     22025\n",
      "   macro avg       0.50      0.92      0.46     22025\n",
      "weighted avg       1.00      0.84      0.91     22025\n",
      "\n",
      "__________________________________________________________\n",
      "Accuracy of the Model : 0.8410896708286039\n"
     ]
    }
   ],
   "source": [
    "from sklearn.linear_model import LogisticRegression\n",
    "from sklearn.metrics import  confusion_matrix, ConfusionMatrixDisplay\n",
    "from sklearn.metrics import accuracy_score, classification_report\n",
    "\n",
    "import warnings\n",
    "warnings.filterwarnings(\"ignore\", category=UserWarning)\n",
    "\n",
    "model= LogisticRegression()\n",
    "model.fit(X_smote, Y_smote)\n",
    "predict = model.predict(X_test)\n",
    "\n",
    "print(\"Confusion Matrix\")\n",
    "print(confusion_matrix(Y_test,predict))\n",
    "print(\"__________________________________________________________\")\n",
    "print(\"Classification Report\")\n",
    "print(classification_report(Y_test, predict))\n",
    "print(\"__________________________________________________________\")\n",
    "print(\"Accuracy of the Model : {}\".format(accuracy_score(predict,Y_test)))"
   ]
  },
  {
   "cell_type": "markdown",
   "id": "0a1296fc-03ce-40a5-b348-f439f989e841",
   "metadata": {},
   "source": [
    "## Undersampling Credit Card Dataset 'creditCardData'"
   ]
  },
  {
   "cell_type": "code",
   "execution_count": 17,
   "id": "1288cb25-5c69-4e94-a6cc-80335d16eeac",
   "metadata": {},
   "outputs": [
    {
     "data": {
      "text/plain": [
       "Class\n",
       "0    284315\n",
       "1       492\n",
       "Name: count, dtype: int64"
      ]
     },
     "execution_count": 17,
     "metadata": {},
     "output_type": "execute_result"
    },
    {
     "data": {
      "image/png": "[encoded data removed]",
      "text/plain": [
       "<Figure size 640x480 with 1 Axes>"
      ]
     },
     "metadata": {},
     "output_type": "display_data"
    }
   ],
   "source": [
    "creditCardData['Class'].value_counts().plot(kind=\"bar\")\n",
    "creditCardData['Class'].value_counts()"
   ]
  },
  {
   "cell_type": "markdown",
   "id": "85d55b7d-2eaf-4501-8aca-e10c6b8fe972",
   "metadata": {},
   "source": [
    "<h><b> This Dataset is highly unbalanced\n",
    "\n",
    "0 --> legitimate Transaction\n",
    "\n",
    "1 --> fraudulent transaction </b></h>"
   ]
  },
  {
   "cell_type": "code",
   "execution_count": 18,
   "id": "8d8f110d-ce80-4b95-b4ea-473d6495c9c3",
   "metadata": {},
   "outputs": [],
   "source": [
    "legitData = creditCardData[creditCardData['Class']==0]\n",
    "fraudData = creditCardData[creditCardData['Class']==1]"
   ]
  },
  {
   "cell_type": "code",
   "execution_count": 19,
   "id": "d2830001-5e27-47ea-a6aa-b6dc5f6c269f",
   "metadata": {},
   "outputs": [
    {
     "data": {
      "text/html": [
       "<div>\n",
       "<style scoped>\n",
       "    .dataframe tbody tr th:only-of-type {\n",
       "        vertical-align: middle;\n",
       "    }\n",
       "\n",
       "    .dataframe tbody tr th {\n",
       "        vertical-align: top;\n",
       "    }\n",
       "\n",
       "    .dataframe thead th {\n",
       "        text-align: right;\n",
       "    }\n",
       "</style>\n",
       "<table border=\"1\" class=\"dataframe\">\n",
       "  <thead>\n",
       "    <tr style=\"text-align: right;\">\n",
       "      <th></th>\n",
       "      <th>legitData</th>\n",
       "      <th>fraudData</th>\n",
       "    </tr>\n",
       "  </thead>\n",
       "  <tbody>\n",
       "    <tr>\n",
       "      <th>count</th>\n",
       "      <td>284315.000000</td>\n",
       "      <td>492.000000</td>\n",
       "    </tr>\n",
       "    <tr>\n",
       "      <th>mean</th>\n",
       "      <td>88.291022</td>\n",
       "      <td>122.211321</td>\n",
       "    </tr>\n",
       "    <tr>\n",
       "      <th>std</th>\n",
       "      <td>250.105092</td>\n",
       "      <td>256.683288</td>\n",
       "    </tr>\n",
       "    <tr>\n",
       "      <th>min</th>\n",
       "      <td>0.000000</td>\n",
       "      <td>0.000000</td>\n",
       "    </tr>\n",
       "    <tr>\n",
       "      <th>25%</th>\n",
       "      <td>5.650000</td>\n",
       "      <td>1.000000</td>\n",
       "    </tr>\n",
       "    <tr>\n",
       "      <th>50%</th>\n",
       "      <td>22.000000</td>\n",
       "      <td>9.250000</td>\n",
       "    </tr>\n",
       "    <tr>\n",
       "      <th>75%</th>\n",
       "      <td>77.050000</td>\n",
       "      <td>105.890000</td>\n",
       "    </tr>\n",
       "    <tr>\n",
       "      <th>max</th>\n",
       "      <td>25691.160000</td>\n",
       "      <td>2125.870000</td>\n",
       "    </tr>\n",
       "  </tbody>\n",
       "</table>\n",
       "</div>"
      ],
      "text/plain": [
       "           legitData    fraudData\n",
       "count  284315.000000   492.000000\n",
       "mean       88.291022   122.211321\n",
       "std       250.105092   256.683288\n",
       "min         0.000000     0.000000\n",
       "25%         5.650000     1.000000\n",
       "50%        22.000000     9.250000\n",
       "75%        77.050000   105.890000\n",
       "max     25691.160000  2125.870000"
      ]
     },
     "execution_count": 19,
     "metadata": {},
     "output_type": "execute_result"
    }
   ],
   "source": [
    "description = {'legitData': legitData.Amount.describe(),\n",
    "              'fraudData': fraudData.Amount.describe()}\n",
    "pd.DataFrame(description)"
   ]
  },
  {
   "cell_type": "code",
   "execution_count": 20,
   "id": "574033f7-8bd0-4bb5-9777-2f9b805f9cbd",
   "metadata": {},
   "outputs": [],
   "source": [
    "legitSample = legitData.sample(n=492, random_state=18)\n",
    "underSampledData = pd.concat([legitSample,fraudData],axis=0)"
   ]
  },
  {
   "cell_type": "code",
   "execution_count": 21,
   "id": "003be293-fd68-4f34-960a-40b808d23809",
   "metadata": {},
   "outputs": [
    {
     "data": {
      "text/plain": [
       "Class\n",
       "0    492\n",
       "1    492\n",
       "Name: count, dtype: int64"
      ]
     },
     "execution_count": 21,
     "metadata": {},
     "output_type": "execute_result"
    }
   ],
   "source": [
    "underSampledData['Class'].value_counts()"
   ]
  },
  {
   "cell_type": "code",
   "execution_count": 22,
   "id": "01795074-195d-4147-a00d-ebef5ff50599",
   "metadata": {},
   "outputs": [],
   "source": [
    "independentVar = underSampledData.drop(columns='Class', axis=1)\n",
    "targetVar = underSampledData['Class']"
   ]
  },
  {
   "cell_type": "code",
   "execution_count": 23,
   "id": "754fdfe2-0c32-416a-bed9-ee78c77c95a4",
   "metadata": {},
   "outputs": [],
   "source": [
    "from sklearn.model_selection import train_test_split\n",
    "\n",
    "X_train, X_test, Y_train, Y_test = train_test_split(independentVar, targetVar, test_size=0.2, stratify=targetVar, random_state=18)"
   ]
  },
  {
   "cell_type": "markdown",
   "id": "43bf233e-e8e8-4724-b327-e4c4eaef4877",
   "metadata": {},
   "source": [
    "## Training Logistic Regression Model with Outliers Present"
   ]
  },
  {
   "cell_type": "code",
   "execution_count": 24,
   "id": "0ca87391-4ba5-40d4-a60c-9d8d351da28e",
   "metadata": {},
   "outputs": [],
   "source": [
    "from sklearn.linear_model import LogisticRegression\n",
    "from sklearn.metrics import accuracy_score, classification_report"
   ]
  },
  {
   "cell_type": "code",
   "execution_count": 25,
   "id": "9de1d70d-fb97-48b0-ad3a-0f61574ed3fa",
   "metadata": {},
   "outputs": [],
   "source": [
    "model = LogisticRegression(max_iter=100000)"
   ]
  },
  {
   "cell_type": "code",
   "execution_count": 26,
   "id": "3b6016af-1449-47b7-9aa7-ed0d58a1764d",
   "metadata": {},
   "outputs": [
    {
     "name": "stdout",
     "output_type": "stream",
     "text": [
      "Accuracy on Training data :  0.951715374841169\n"
     ]
    }
   ],
   "source": [
    "model.fit(X_train, Y_train)\n",
    "trainDataPrediction = model.predict(X_train)\n",
    "trainingDataAccuracy = accuracy_score(trainDataPrediction, Y_train)\n",
    "print('Accuracy on Training data : ', trainingDataAccuracy)"
   ]
  },
  {
   "cell_type": "code",
   "execution_count": 27,
   "id": "4cdbf05e-5d26-4832-8e8e-a7c506774f18",
   "metadata": {},
   "outputs": [
    {
     "name": "stdout",
     "output_type": "stream",
     "text": [
      "Classification Report\n",
      "              precision    recall  f1-score   support\n",
      "\n",
      "           0       0.92      0.99      0.96        99\n",
      "           1       0.99      0.92      0.95        98\n",
      "\n",
      "    accuracy                           0.95       197\n",
      "   macro avg       0.96      0.95      0.95       197\n",
      "weighted avg       0.96      0.95      0.95       197\n",
      "\n",
      "__________________________________________________________\n",
      "Accuracy score on Test Data :  0.9543147208121827\n"
     ]
    }
   ],
   "source": [
    "testDataPrediction = model.predict(X_test)\n",
    "testingDataAccuracy = accuracy_score(testDataPrediction, Y_test)\n",
    "print(\"Classification Report\")\n",
    "print(classification_report(Y_test, testDataPrediction))\n",
    "print(\"__________________________________________________________\")\n",
    "print('Accuracy score on Test Data : ', testingDataAccuracy)"
   ]
  },
  {
   "cell_type": "markdown",
   "id": "dee2dd5d-c12e-46fe-b5ca-f535244a579e",
   "metadata": {},
   "source": [
    "### Visualization of the Confusion Matrix"
   ]
  },
  {
   "cell_type": "code",
   "execution_count": 28,
   "id": "d2a3c9d3-2661-4d40-bafc-20f5eff82983",
   "metadata": {},
   "outputs": [
    {
     "data": {
      "image/png": "[encoded data removed]",
      "text/plain": [
       "<Figure size 640x480 with 2 Axes>"
      ]
     },
     "metadata": {},
     "output_type": "display_data"
    }
   ],
   "source": [
    "from sklearn.metrics import  confusion_matrix, ConfusionMatrixDisplay\n",
    "\n",
    "confusionMatrix=ConfusionMatrixDisplay(confusion_matrix=confusion_matrix(Y_test, testDataPrediction, labels = model.classes_), display_labels = model.classes_)\n",
    "confusionMatrix.plot()\n",
    "plot.show()"
   ]
  },
  {
   "cell_type": "markdown",
   "id": "c0a3fc20-485e-4f8a-b553-f8ab9b630377",
   "metadata": {},
   "source": [
    "### Predicting External Input Data"
   ]
  },
  {
   "cell_type": "code",
   "execution_count": 29,
   "id": "d70528ea-5005-4389-acd6-d0dd8ef6e0b1",
   "metadata": {
    "scrolled": true
   },
   "outputs": [
    {
     "name": "stdin",
     "output_type": "stream",
     "text": [
      " 472,-3.043540624,-3.157307121,1.08846278,2.288643618,1.35980513,-1.064822523,0.325574266,-0.067793653,-0.270952836,-0.838586565,-0.414575448,-0.50314086,0.676501545,-1.692028933,2.000634839,0.666779696,0.599717414,1.725321007,0.28334483,2.102338793,0.661695925,0.435477209,1.375965743,-0.293803153,0.279798032,-0.145361715,-0.252773123,0.035764225,529\n"
     ]
    },
    {
     "name": "stdout",
     "output_type": "stream",
     "text": [
      "[1]\n",
      "__________________________________________________________________________\n",
      "\n",
      "\n",
      "PREDICTION RESULT : \n",
      "\n",
      "fraudulent transaction\n"
     ]
    }
   ],
   "source": [
    "import warnings\n",
    "\n",
    "warnings.filterwarnings(\"ignore\", category=UserWarning)\n",
    "\n",
    "inputs = input().split(\",\")\n",
    "features = np.asarray(inputs, dtype=np.float64).reshape(1, -1)\n",
    "feature_names = list(creditCardData.drop(columns=\"Class\").columns)\n",
    "prediction = model.predict(features)\n",
    "print(prediction)\n",
    "print(\"__________________________________________________________________________\\n\\n\")\n",
    "print(\"PREDICTION RESULT : \\n\")\n",
    "if prediction[0] == 0:\n",
    "    print(\"legitimate transaction\")\n",
    "else:\n",
    "    print(\"fraudulent transaction\")"
   ]
  },
  {
   "cell_type": "markdown",
   "id": "d5906b34-09ab-43d4-bb82-667afbd5d131",
   "metadata": {},
   "source": [
    "### Impact of Outliers on Model Performance\n",
    "- #### Accuracy Difference:\n",
    "   - With outliers : 95%\n",
    "   - Without outliers : 85%\n",
    "- #### Significance of Outliers:\n",
    "   - Outliers may represent critical instances of fraud.\n",
    "   - Removing outliers led to a significant drop in accuracy, indicating their importance.\n",
    "- #### Model Insights:\n",
    "   - Higher accuracy with outliers suggests they contain valuable  information for distinguishing fraudulent transactions.\n",
    "   - The presence of outliers might enhance the model's ability to detect unusual patterns associated with fraud.\n",
    "- #### Conclusion:\n",
    "   - In this case, outliers provide important signals.\n",
    "   - It is advisable to train the model with outliers to acheive better accuracy and detection capability."
   ]
  },
  {
   "cell_type": "markdown",
   "id": "8c8b996b-e336-4bf9-80d2-04130a6766da",
   "metadata": {},
   "source": [
    "## Random Forest Classifier Training"
   ]
  },
  {
   "cell_type": "code",
   "execution_count": 30,
   "id": "506f2989-d961-4bf5-a3da-282c15c10952",
   "metadata": {},
   "outputs": [],
   "source": [
    "from imblearn.over_sampling import SMOTE\n",
    "from sklearn.ensemble import RandomForestClassifier\n",
    "from sklearn.metrics import accuracy_score, classification_report"
   ]
  },
  {
   "cell_type": "code",
   "execution_count": 31,
   "id": "326a5517-cf7f-4dbb-9d19-6e2f4134a647",
   "metadata": {},
   "outputs": [],
   "source": [
    "randomSample = creditCardData.sample(n=20000, random_state=18)\n",
    "X = randomSample.drop(columns=\"Class\")\n",
    "Y = randomSample['Class']\n",
    "X_train, X_test, Y_train, Y_test = train_test_split(X,Y,test_size=0.2,random_state=18)"
   ]
  },
  {
   "cell_type": "markdown",
   "id": "6b0c2518-650e-4295-9d6d-3fd70f060b88",
   "metadata": {},
   "source": [
    "#### Performing SMOTE"
   ]
  },
  {
   "cell_type": "code",
   "execution_count": 32,
   "id": "1eae2772-923f-452e-8803-192cf1cd89ac",
   "metadata": {},
   "outputs": [
    {
     "data": {
      "text/plain": [
       "Class\n",
       "0    15982\n",
       "1    15982\n",
       "Name: count, dtype: int64"
      ]
     },
     "execution_count": 32,
     "metadata": {},
     "output_type": "execute_result"
    }
   ],
   "source": [
    "syntheticMinorOversample = SMOTE()\n",
    "X_smote, Y_smote = syntheticMinorOversample.fit_resample(X_train,Y_train)\n",
    "Y_smote.value_counts()"
   ]
  },
  {
   "cell_type": "code",
   "execution_count": 33,
   "id": "cee0497e-659f-4d0c-a38f-30aff2e85a73",
   "metadata": {},
   "outputs": [
    {
     "name": "stdout",
     "output_type": "stream",
     "text": [
      "Confusion Matrix\n",
      "[[3989    1]\n",
      " [   5    5]]\n",
      "Accuracy of the Model : 0.9985\n"
     ]
    }
   ],
   "source": [
    "rModel= RandomForestClassifier()\n",
    "rModel.fit(X_smote, Y_smote)\n",
    "rPredict = rModel.predict(X_test)\n",
    "\n",
    "print(\"Confusion Matrix\")\n",
    "print(confusion_matrix(Y_test,rPredict))\n",
    "\n",
    "print(\"Accuracy of the Model : {}\".format(rModel.score(X_test,Y_test)))"
   ]
  },
  {
   "cell_type": "code",
   "execution_count": 34,
   "id": "04d354c3-bbed-4eb6-94e1-032426efdb7f",
   "metadata": {},
   "outputs": [
    {
     "name": "stdin",
     "output_type": "stream",
     "text": [
      " 472,-3.043540624,-3.157307121,1.08846278,2.288643618,1.35980513,-1.064822523,0.325574266,-0.067793653,-0.270952836,-0.838586565,-0.414575448,-0.50314086,0.676501545,-1.692028933,2.000634839,0.666779696,0.599717414,1.725321007,0.28334483,2.102338793,0.661695925,0.435477209,1.375965743,-0.293803153,0.279798032,-0.145361715,-0.252773123,0.035764225,-1100\n"
     ]
    },
    {
     "name": "stdout",
     "output_type": "stream",
     "text": [
      "[0]\n",
      "__________________________________________________________________________\n",
      "\n",
      "\n",
      "PREDICTION RESULT : \n",
      "\n",
      "legitimate transaction\n"
     ]
    }
   ],
   "source": [
    "import warnings\n",
    "\n",
    "warnings.filterwarnings(\"ignore\", category=UserWarning)\n",
    "\n",
    "inputs = input().split(\",\")\n",
    "features = np.asarray(inputs, dtype=np.float64).reshape(1, -1)\n",
    "rfPrediction = rModel.predict(features)\n",
    "print(rfPrediction)\n",
    "print(\"__________________________________________________________________________\\n\\n\")\n",
    "print(\"PREDICTION RESULT : \\n\")\n",
    "if rfPrediction[0] == 0:\n",
    "    print(\"legitimate transaction\")\n",
    "else:\n",
    "    print(\"fraudulent transaction\")"
   ]
  },
  {
   "cell_type": "markdown",
   "id": "919ca022-d9bc-407f-838c-f16f823e48dc",
   "metadata": {},
   "source": [
    "## Inference"
   ]
  },
  {
   "cell_type": "markdown",
   "id": "62599210-b214-4c84-bffa-cd10d7af9706",
   "metadata": {},
   "source": [
    "#### Accuracy vs. Speed\n",
    "- Random Forest: Generally provides higher accuracy compared to logistic regression.\n",
    "- Logistic Regression: Tends to be faster and simpler but may sacrifice a small amount of accuracy.\n",
    "#### Handling Outliers\n",
    "- Logistic Regression: Is known to be robust to outliers in the data.\n",
    "#### Scalability\n",
    "- Logistic Regression: Can be more efficient for handling large datasets or real-time processing due to its linear nature.\n",
    "#### Conclusion\n",
    "- Logistic Regression: Recommended if faster and more interpretable results are needed, and if the small difference in accuracy (99% vs. 95%) is acceptable.\n",
    "- Random Forest: Preferred if achieving slightly higher accuracy (99% vs. 95%) is critical and computational efficiency is less of a concern."
   ]
  }
 ],
 "metadata": {
  "kernelspec": {
   "display_name": "Python 3 (ipykernel)",
   "language": "python",
   "name": "python3"
  },
  "language_info": {
   "codemirror_mode": {
    "name": "ipython",
    "version": 3
   },
   "file_extension": ".py",
   "mimetype": "text/x-python",
   "name": "python",
   "nbconvert_exporter": "python",
   "pygments_lexer": "ipython3",
   "version": "3.11.5"
  }
 },
 "nbformat": 4,
 "nbformat_minor": 5
}
